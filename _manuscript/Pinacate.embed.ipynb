{
 "cells": [
  {
   "cell_type": "markdown",
   "metadata": {},
   "source": [
    "# El Pinacate\n",
    "\n",
    "Miguel Equihua\n",
    "\n",
    "En 1980 el gobernador del estado de Sonora, Samuel Ocaña, invitó al Inecol a realizar estudios que conducirían a establecer una nueva reserva de la biosfera en México en la hermosa región del Pinacate, en la región del desierto sonorense. Seguramente lo inspiraban las reservas de la biosfera en Mapimí y la Michilía en Durango. Es también un estímulo sumarse a la innovación que significaba el naciente y ambicioso planteamiento del **proyecto 8** del entonces todavía nuevo programa MAB creado por la UNESCO en 1970. El \\*\\* Proyecto 8\\*\\* *impulsa la creación de un sistema mundial de reservas de la biosfera* mediante el caul se preserven porciones significativas de los ecosistemas del mundo.\n",
    "\n",
    "El pinacate sin duda es una joya para este notable planteamiento. El inecol, dirigido entonces por su fundador Gonzalo Halffter, convoca a Exequiel Ezcurra, recién llegado de Argentina aencabezar y formar un euipo de trabajo para realizar los estudios solicitados\n",
    "\n",
    "el producto de tres años de estudios culminó con la elaboración de una propuesta de decreto para la Reserva de la Biosfera El Pinacate, a la cual no se le dio seguimiento.\n",
    "\n",
    ". Cráteres. Los nueve cráteres, llamados geológicamente “maar” de esta reserva, hacen que sea el sitio con mayor número de ellos de su tipo en el mundo; no están en la cima de un cerro o volcán convencional, ni fueron originados por la precipitación de meteoritos, como se pensó en algún tiempo, por el contrario, están a nivel del suelo, y se produjeron por la colisión entre el flujo de lava en ascenso, hacia la superficie de la tierra, y los mantos freáticos que se encontraba a su paso. Este choque entre magma y agua produjo una enorme explosión que dio como resultado la formación de estos cráteres al ras del suelo. El cráter “maar” de mayor tamaño es El Elegante, con un diámetro de 1.6 kilómetros y una profundidad de 244 metros; en 1961, David J. Lynch le calculó una edad de 149 mil años. En 2008, James Guntmann rectificó, y la estimó en 32 mil (Ibid.).\n",
    "\n",
    "1.  Volcanes. Por último, como es de esperar, esta zona, cuya génesis es la actividad ígnea, se caracteriza por la presencia de 400 conos cineríticos o volcanes menores, y El Pinacate en realidad conforma dos, compuestos de lava y basalto. La parte más alta de esta montaña, con dos volcanes, está a 1 206 metros sobre el nivel del mar. A El Pinacate se le atribuye una antigüedad de 1.1 millones de años, y aunque se ha estimado que la última erupción ocurrió hace un millón ochenta mil años, los geólogos y vulcanólogos consideran que aún se encuentra activo.\n",
    "\n",
    "Se estin elesarrollanclo 0 creando varios mecanismos para disminuir 0 evitar la catastrofe eco16gica: los parques nacionales, los museos vivos 0 al aire libre, las c’treas protegidas y los r’efugios faunisticos en los que algunas especies pueelen reproducir~e. La idea mas amplia, planteada con una ver dadera concepci()l1 mundial es la reel de reservas de la biosfera promovida pOl’ el Programa land Biosphere (MAB) de UNESCO. El Programa lVIAB se inicia en UNESCO en 1970 y dentro de el se esta blece el proyecto 8: Reservas de la Biosfera que ha llegado a ser uno de los mas important’es. Los objetivos del sistema mundial de reservas de la biosfera no podian ser mcls ambiciosos: crear un sistema mundial en el que mediante un con junto de areas protegidas se conserv’en porciones significativas, con toda su fauna y flora, de los principales ecosistemas\n",
    "\n",
    "En 1982, con la creación de la Secretaría de Desarrollo Urba Las reservas formalmente establecidas son tre=: La \\]VIichilia y lVlapimi en ‘el Estado de Durango; lVlontes Azu!es en la Selva Lacanclona, en el Estado de Chiapas. El Instituto esta a punto de terminar los estudios pre liminares para la creacion de una nueva reserva en la region conocida como El Pinacate, parte del desierto de Altar 0 Gran Desierto de Sonora. POl’ otra parte, ~e estan inicianclo los trabajos para la creacion de dos reservas mas: una en el Estado de Tamaulipas, la segunda comprendiendo las Islas lVlarfas, en el Pacifico."
   ],
   "id": "f3c5f298-a8e0-4dce-94fe-81f8977cef27"
  }
 ],
 "nbformat": 4,
 "nbformat_minor": 5,
 "metadata": {}
}

{
 "cells": [
  {
   "cell_type": "markdown",
   "metadata": {},
   "source": [
    "# El Pinacate\n",
    "\n",
    "Miguel Equihua\n",
    "\n",
    "En 1980 el gobernador del estado de Sonora, Samuel Ocaña, invitó al Inecol a realizar estudios que conducirían a establecer una nueva reserva de la biosfera en México en la hermosa región del Pinacate, en la región del desierto sonorense. Seguramente lo inspiraban las reservas de la biosfera en Mapimí y la Michilía en Durango. Es también un estímulo sumarse a la innovación que significaba el naciente y ambicioso planteamiento del **proyecto 8** del entonces todavía nuevo programa MAB creado por la UNESCO en 1970. El \\*\\* Proyecto 8\\*\\* *impulsa la creación de un sistema mundial de reservas de la biosfera* mediante el cual se preserven porciones significativas de los ecosistemas del mundo.\n",
    "\n",
    "El Pinacate sin duda es una joya para este notable planteamiento. El Inecol, dirigido entonces por su fundador Gonzalo Halffter, convoca a Exequiel Ezcurra, recién llegado de Argentina, a encabezar y formar un equipo multidisciplinario de trabajo para realizar los estudios solicitados. En el grupo estábamos el propio Exequiel, Jorge López-Portillo, un colaborador de Inegi, Enrique Lagunes y yo, enfocados a hacer la cartografía, zonificación ecológica e inventario botánico. Alberto González y Jorge Nocedal se abocaron al estudio de la fauna.\n",
    "\n",
    "Nuestro primer encuentro con esta majestuosa porción del planeta nos impresionó profundamente. Desde el aire se aprecia el gran escudo basáltico negruzco que han formado los más de 400 volcanes que ahí existen, enmarcado por las arenas vivas del Grand Desierto de Altar. Caminar este paisaje es una experiencia sobrecogedora. Lo exploramos poco a poco, desde la costa de la bahía de Adair, con sus amplias llanuras lodosas, dunas, salinas y minúsculos oasis. Pasando por las imponentes dunas vivas del Gran Desierto de Altar y, desde luego, el majestuosos y complejo escudo basáltico salpicado por los cráteres *maar*. En cada ambiente hicimos muestreos de vegetación en cuadrados y transectos, para obtener datos numéricos sobre la composición y abundancia de las plantas de cada lugar. De vez en cuando nos topamos con habitantes del lugar, humanos y no humanos, como los berrendos, que un buen día nos sorprendieron en una llanura, lo que nos obligo a detenernos en seco para saludarlos a la distancia y maravillarnos con su hermosura. Ellos nos correspondieron saliendo a toda carrera para mantener su distancia.\n",
    "\n",
    "Los datos que recogimos en estas travesías lo organizamos con ayuda de una reluciente microcomputadora **Apple II plus**, con procesador de 8 bits y 64kbytes de memoria RAM. En ella sistematizamos los datos de campo con ayuda de una base de datos y la programamos en fortran y pascal para realizar lo que pienso fueron ensayos pioneros de clasificación numérica de la vegetación. Con este enfoque, dirigido por Exequiel que había incursionado en estos temas en sus estudios de maestría en Inglaterra, propusimos una caracterización ecológica del área de estudio que consideraba 9 unidades de vegetación. Contrastando notablemente los ambientes rocosos de los demás. El ocotillo (*Fouqueria splendens* Engelm.) emergió en esta perspectiva como una marca para distinguir esta gran dicotomía. Los ambientes rocosos notablemente más ricos en composición.\n",
    "\n",
    "Tras tres años de estudios se elaboró una propuesta de decreto para la **Reserva de la Biosfera El Pinacate**, pero desafortunadamente no se le dio seguimiento por muchos años. Finalmente, en 1993, fue publicado el decreto que declara la creación del área natural protegida, con el carácter de Reserva de la Biosfera, aa la región conocida como El Pinacate y Gran Desierto de Altar, ubicada en los municipios de Plutarco Elías Calles, Puerto Peñasco y San Luis Río Colorado. Algunos años más adelate, en 2013, también sería reconocido como \\*\\* Patrimonio Mundial\\*\\* por la UNESCO, considerando su excepcional belleza paisajística, confluencia única de geoformas y extraordinaria biodiversidad.\n",
    "\n",
    "Hoy, el Pinacate es un área natural protegida emblemática. Cuenta con un centro de Visitantes llamado *Schuk Toak*, que significa Montaña Sagrada en dialecto Pápago (pueblo *Tohono O’odham* como se llaman ellos mismos en su propia lengua). Sin duda es un enorme privilegio haber sido parte de esta historia, de las vivencias compartidas y de los afanes que finalmente culminaron en honrar al Pinacate, al Shuk Toak como patrimonio de la humanidad."
   ],
   "id": "add62dc6-8331-4061-8ccb-434eb9d4610c"
  }
 ],
 "nbformat": 4,
 "nbformat_minor": 5,
 "metadata": {}
}
